{
 "cells": [
  {
   "cell_type": "code",
   "execution_count": null,
   "metadata": {},
   "outputs": [],
   "source": [
    "import os\n",
    "import json\n",
    "import requests\n",
    "import csv\n",
    "import numpy as np\n",
    "import pandas as pd\n",
    "import geopandas as gpd\n",
    "from zipfile import ZipFile\n",
    "from datetime import date, timedelta, datetime, timezone\n",
    "from arcgis.gis import GIS\n",
    "from arcgis.features import FeatureLayerCollection"
   ]
  },
  {
   "cell_type": "code",
   "execution_count": null,
   "metadata": {},
   "outputs": [],
   "source": [
    "print(str(datetime.now()) + \" Running 1_COVID_Daily_Cases_Process\")\n",
    "yearDate = date.today().strftime('%m%d%y')\n",
    "print(\"today: \"+yearDate)\n",
    "yesterday = date.today() - timedelta(days=1)\n",
    "yearDate_yesterday = yesterday.strftime('%m%d%y')\n",
    "print(\"yesterday: \"+yearDate_yesterday)"
   ]
  },
  {
   "cell_type": "markdown",
   "metadata": {},
   "source": [
    "### Download data"
   ]
  },
  {
   "cell_type": "code",
   "execution_count": null,
   "metadata": {},
   "outputs": [],
   "source": [
    "gis = GIS()\n",
    "daily_covid_county_service_id = 'a7887f1940b34bf5a02c6f7f27a5cb2c'\n",
    "covid_cases = gis.content.get(daily_covid_county_service_id)\n",
    "covid_cases"
   ]
  },
  {
   "cell_type": "code",
   "execution_count": null,
   "metadata": {},
   "outputs": [],
   "source": [
    "query = covid_cases.layers[0].query(where=\"1=1\")\n",
    "df_covid_cases = query.sdf\n",
    "df_covid_cases.head()"
   ]
  },
  {
   "cell_type": "code",
   "execution_count": null,
   "metadata": {},
   "outputs": [],
   "source": [
    "df_covid_cases_drop = df_covid_cases.drop(columns=['SHAPE'])\n",
    "df_Case = df_covid_cases_drop.sort_values(by=['DEPCODE'])\n",
    "df_Case.head()"
   ]
  },
  {
   "cell_type": "code",
   "execution_count": null,
   "metadata": {},
   "outputs": [],
   "source": [
    "covid_data_updated = covid_cases.layers[0].properties.editingInfo.lastEditDate\n",
    "covid_update_time = datetime.fromtimestamp(covid_data_updated/1000).strftime('%m/%d/%y %H:%M ET')\n",
    "print(\"COVID Cases by County data is updated at {}\".format(covid_update_time))"
   ]
  },
  {
   "cell_type": "code",
   "execution_count": null,
   "metadata": {},
   "outputs": [],
   "source": [
    "# add covid data update time to excel file - df_Case \"Florida_COVID19_Cases_by_County\" sheet\n",
    "df_Case['UpdateTime'] = covid_update_time\n",
    "df_Case"
   ]
  },
  {
   "cell_type": "code",
   "execution_count": null,
   "metadata": {},
   "outputs": [],
   "source": [
    "covid_by_population_id = '09e0d01d8e8e46b6ae678c256d918178'\n",
    "covid_popu = gis.content.get(covid_by_population_id)\n",
    "covid_popu"
   ]
  },
  {
   "cell_type": "code",
   "execution_count": null,
   "metadata": {},
   "outputs": [],
   "source": [
    "query_popu = covid_popu.layers[0].query(where=\"1=1\")\n",
    "df_cases_popu = query_popu.sdf\n",
    "df_cases_popu.head()"
   ]
  },
  {
   "cell_type": "code",
   "execution_count": null,
   "metadata": {},
   "outputs": [],
   "source": [
    "df_cases_popu_drop = df_cases_popu.drop(columns=['SHAPE'])\n",
    "df_PP = df_cases_popu_drop.sort_values(by=['FID'])\n",
    "df_PP.head()"
   ]
  },
  {
   "cell_type": "code",
   "execution_count": null,
   "metadata": {},
   "outputs": [],
   "source": [
    "pp_data_updated = covid_popu.layers[0].properties.editingInfo.lastEditDate\n",
    "pp_update_time = datetime.fromtimestamp(pp_data_updated/1000).strftime('%m/%d/%y %H:%M ET')\n",
    "print(\"COVID by popolation data is updated at {}\".format(pp_update_time))"
   ]
  },
  {
   "cell_type": "code",
   "execution_count": null,
   "metadata": {},
   "outputs": [],
   "source": [
    "# add pp data update time to excel file - df_PP \"Sheet1\" sheet\n",
    "df_PP['PPUpdateTime'] = pp_update_time\n",
    "df_PP"
   ]
  },
  {
   "cell_type": "code",
   "execution_count": null,
   "metadata": {},
   "outputs": [],
   "source": [
    "print(\"Saving Florida_COVID19_Cases_by_County{}.xlsx in data/s\".format(yearDate))\n",
    "with pd.ExcelWriter('data/Florida_COVID19_Cases_by_County{}.xlsx'.format(yearDate)) as writer:  \n",
    "    df_Case.to_excel(writer, sheet_name='Florida_COVID19_Cases_by_County')\n",
    "    df_PP.to_excel(writer, sheet_name='Sheet1')"
   ]
  },
  {
   "cell_type": "markdown",
   "metadata": {},
   "source": [
    "### Extract data, process data, generate shapefile"
   ]
  },
  {
   "cell_type": "code",
   "execution_count": null,
   "metadata": {},
   "outputs": [],
   "source": [
    "df_case = df_Case[['OBJECTID','COUNTYNAME','County_1','State','NewPos','NewTested','PUIsTotal','CasesAll','UpdateTime']].copy()\n",
    "df_case.head()"
   ]
  },
  {
   "cell_type": "code",
   "execution_count": null,
   "metadata": {},
   "outputs": [],
   "source": [
    "a = set(df_PP['NAME'].values)\n",
    "b = set(df_case['County_1'].values)\n",
    "a.difference(b)"
   ]
  },
  {
   "cell_type": "code",
   "execution_count": null,
   "metadata": {},
   "outputs": [],
   "source": [
    "b.difference(a)"
   ]
  },
  {
   "cell_type": "code",
   "execution_count": null,
   "metadata": {},
   "outputs": [],
   "source": [
    "df_PP.loc[df_PP['NAME']=='A State','NAME']='State'"
   ]
  },
  {
   "cell_type": "code",
   "execution_count": null,
   "metadata": {},
   "outputs": [],
   "source": [
    "df_merge = pd.merge(df_PP, df_case, left_on=['NAME'],right_on= ['County_1'], how = 'outer')\n",
    "df_merge.head(len(df_merge))"
   ]
  },
  {
   "cell_type": "code",
   "execution_count": null,
   "metadata": {},
   "outputs": [],
   "source": [
    "df_merge_rename =df_merge.rename(columns={\"NAME\": \"County\"})\n",
    "df_merge_drop = df_merge_rename.drop(columns=['OBJECTID','FID_1', 'County_1','Shape__Area','Shape__Length'])\n",
    "df_merge_drop.head(len(df_merge_drop))"
   ]
  },
  {
   "cell_type": "code",
   "execution_count": null,
   "metadata": {},
   "outputs": [],
   "source": [
    "df_merge_drop['P100K_Y'] = df_merge_drop['NewPos'] / df_merge_drop['Pop']*100000\n",
    "df_merge_drop['P100K_7'] = df_merge_drop['Css7Dys'] / df_merge_drop['Pop']*100000\n",
    "df_merge_drop['P100K_14'] = df_merge_drop['Css14Dy'] / df_merge_drop['Pop']*100000\n",
    "df_merge_drop['T100K_Y'] = df_merge_drop['NewTested'] / df_merge_drop['Pop']*100000\n",
    "df_merge_drop['PRate'] = df_merge_drop['NewPos'] / df_merge_drop['NewTested']\n",
    "df_merge_drop['TestGoal'] = df_merge_drop['Css14Dy'] / 14 * 30"
   ]
  },
  {
   "cell_type": "code",
   "execution_count": null,
   "metadata": {},
   "outputs": [],
   "source": [
    "df_merge_drop_unknown = df_merge_drop.drop([67])\n",
    "df_merge_drop_unknown"
   ]
  },
  {
   "cell_type": "code",
   "execution_count": null,
   "metadata": {},
   "outputs": [],
   "source": [
    "df_merge_drop_unknown['P100K_Y'] =df_merge_drop_unknown['P100K_Y'].astype(int)\n",
    "df_merge_drop_unknown['P100K_7'] =df_merge_drop_unknown['P100K_7'].astype(int)\n",
    "df_merge_drop_unknown['P100K_14'] =df_merge_drop_unknown['P100K_14'].astype(int)\n",
    "df_merge_drop_unknown['T100K_Y'] =df_merge_drop_unknown['T100K_Y'].astype(int)\n",
    "df_merge_drop_unknown['TestGoal'] =df_merge_drop_unknown['TestGoal'].astype(int)"
   ]
  },
  {
   "cell_type": "code",
   "execution_count": null,
   "metadata": {},
   "outputs": [],
   "source": [
    "df_merge_drop_unknown.head()"
   ]
  },
  {
   "cell_type": "code",
   "execution_count": null,
   "metadata": {},
   "outputs": [],
   "source": [
    "gdf_county_polygon = gpd.read_file('shp/Florida_Counties.shp')\n",
    "gdf_county_polygon.head()"
   ]
  },
  {
   "cell_type": "code",
   "execution_count": null,
   "metadata": {},
   "outputs": [],
   "source": [
    "a = set(df_merge_drop_unknown['County'].values)\n",
    "b = set(gdf_county_polygon['COUNTYNAME'].values)\n",
    "a.difference(b)"
   ]
  },
  {
   "cell_type": "code",
   "execution_count": null,
   "metadata": {},
   "outputs": [],
   "source": [
    "b.difference(a)"
   ]
  },
  {
   "cell_type": "code",
   "execution_count": null,
   "metadata": {},
   "outputs": [],
   "source": [
    "df_merge_poly = pd.merge(df_merge_drop_unknown, gdf_county_polygon, left_on = ['County'],right_on= ['COUNTYNAME'], how = 'outer')\n",
    "df_merge_poly.head()"
   ]
  },
  {
   "cell_type": "code",
   "execution_count": null,
   "metadata": {},
   "outputs": [],
   "source": [
    "df_merge_poly1 = df_merge_poly.drop(columns=['DEPCODE','OBJECTID','COUNTYNAME_y','COUNTY','DATESTAMP','ShapeSTAre','ShapeSTLen'])\n",
    "df_merge_poly2 = df_merge_poly1.rename(columns={\"COUNTYNAME_x\": \"COUNTYNAME\"})\n",
    "df_merge_poly2"
   ]
  },
  {
   "cell_type": "code",
   "execution_count": null,
   "metadata": {},
   "outputs": [],
   "source": [
    "result_folder = 'results/{}'.format(yearDate)\n",
    "if not os.path.exists(result_folder):\n",
    "    os.makedirs(result_folder)"
   ]
  },
  {
   "cell_type": "code",
   "execution_count": null,
   "metadata": {},
   "outputs": [],
   "source": [
    "shpfile_name = \"covid_impact_poly\"+ yearDate\n",
    "print(\"Saving {}.shp in results/\".format(shpfile_name))\n",
    "gdf_merge_poly = gpd.GeoDataFrame(df_merge_poly2, geometry='geometry',crs=\"EPSG:4326\")\n",
    "gdf_merge_poly.to_file(os.path.join(result_folder,\"{}.shp\".format(shpfile_name)))"
   ]
  },
  {
   "cell_type": "code",
   "execution_count": null,
   "metadata": {},
   "outputs": [],
   "source": [
    "print(\"Saving {}.zip in publish/\".format(shpfile_name))\n",
    "with ZipFile(os.path.join('publish', '{}.zip'.format(shpfile_name)), 'w') as zipObj:\n",
    "    for file in os.listdir(result_folder):\n",
    "        if shpfile_name in file:\n",
    "            file_path = os.path.join(result_folder, file)\n",
    "            print(file)\n",
    "            try:\n",
    "                zipObj.write(file_path, os.path.basename(file_path))\n",
    "            except OSError as err:\n",
    "                print(\"OS error: {0}\".format(err))   "
   ]
  },
  {
   "cell_type": "markdown",
   "metadata": {},
   "source": [
    "### Use the shapefile to update Florida COVID 19 Health Metrics AGOL layer"
   ]
  },
  {
   "cell_type": "code",
   "execution_count": null,
   "metadata": {},
   "outputs": [],
   "source": [
    "# Check if the data is updated or not today\n",
    "yesterday_covid_file = \"data/Florida_COVID19_Cases_by_County{}.xlsx\".format(yearDate_yesterday)\n",
    "today_covid_file = \"data/Florida_COVID19_Cases_by_County{}.xlsx\".format(yearDate)\n",
    "df_yester_covid = pd.read_excel(yesterday_covid_file, sheet_name = 'Florida_COVID19_Cases_by_County')\n",
    "df_today_covid = pd.read_excel(today_covid_file, sheet_name = 'Florida_COVID19_Cases_by_County')\n",
    "df_yester_newpos = df_yester_covid[['County_1','NewPos']]\n",
    "df_today_newpos = df_today_covid[['County_1','NewPos']]"
   ]
  },
  {
   "cell_type": "code",
   "execution_count": null,
   "metadata": {},
   "outputs": [],
   "source": [
    "if df_yester_newpos.equals(df_today_newpos): \n",
    "    raise Exception(\"Today's data is not updated yet. Exit the script.\")\n",
    "else: \n",
    "    print (\"Today's data is updated.\") "
   ]
  },
  {
   "cell_type": "code",
   "execution_count": null,
   "metadata": {},
   "outputs": [],
   "source": [
    "print(\"Updating Florida COVID 19 Health Metrics layer¶\")\n",
    "uflURL = \"https://ufl.maps.arcgis.com/\"\n",
    "with open(\"env.json\", \"r\") as f:\n",
    "    tokenfile = json.load(f)"
   ]
  },
  {
   "cell_type": "code",
   "execution_count": null,
   "metadata": {},
   "outputs": [],
   "source": [
    "my_token = tokenfile['token']\n",
    "AGOLConnection = GIS(token=my_token)\n",
    "print(AGOLConnection.users.__dict__)"
   ]
  },
  {
   "cell_type": "code",
   "execution_count": null,
   "metadata": {},
   "outputs": [],
   "source": [
    "covid_daily_zip_file = \"publish/covid_impact_poly{}.zip\".format(yearDate)\n",
    "covid_daily_content = AGOLConnection.content.get('2214f2f45aa24cd5bb4ff0175fcf8a2c')\n",
    "covid_daily_content"
   ]
  },
  {
   "cell_type": "code",
   "execution_count": null,
   "metadata": {},
   "outputs": [],
   "source": [
    "covid_daily_collection = FeatureLayerCollection.fromitem(covid_daily_content)\n",
    "response_covid = covid_daily_collection.manager.overwrite(covid_daily_zip_file)\n",
    "print(response_covid)"
   ]
  },
  {
   "cell_type": "code",
   "execution_count": null,
   "metadata": {},
   "outputs": [],
   "source": [
    "print(str(datetime.now()) + \" Done with 1_COVID_Daily_Cases_Process\")"
   ]
  }
 ],
 "metadata": {
  "kernelspec": {
   "display_name": "Python 3",
   "language": "python",
   "name": "python3"
  },
  "language_info": {
   "codemirror_mode": {
    "name": "ipython",
    "version": 3
   },
   "file_extension": ".py",
   "mimetype": "text/x-python",
   "name": "python",
   "nbconvert_exporter": "python",
   "pygments_lexer": "ipython3",
   "version": "3.8.2"
  }
 },
 "nbformat": 4,
 "nbformat_minor": 4
}
