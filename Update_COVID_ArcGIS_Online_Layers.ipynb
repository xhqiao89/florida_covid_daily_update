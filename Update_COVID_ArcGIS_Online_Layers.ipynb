{
 "cells": [
  {
   "cell_type": "code",
   "execution_count": null,
   "metadata": {},
   "outputs": [],
   "source": [
    "import os\n",
    "import json\n",
    "import requests\n",
    "import pandas as pd\n",
    "import geopandas as gpd\n",
    "import arcgis\n",
    "from arcgis.gis import GIS\n",
    "from arcgis.features import FeatureLayerCollection\n",
    "from datetime import date, datetime"
   ]
  },
  {
   "cell_type": "code",
   "execution_count": null,
   "metadata": {},
   "outputs": [],
   "source": [
    "yearDate = date.today().strftime('%m%d%y')\n",
    "print(str(datetime.now()) + \" Running 7_Update_COVID_ArcGIS_Online_Layers\")\n",
    "print(yearDate)"
   ]
  },
  {
   "cell_type": "code",
   "execution_count": null,
   "metadata": {},
   "outputs": [],
   "source": [
    "gis = GIS()"
   ]
  },
  {
   "cell_type": "code",
   "execution_count": null,
   "metadata": {},
   "outputs": [],
   "source": [
    "uflURL = \"https://ufl.maps.arcgis.com/\""
   ]
  },
  {
   "cell_type": "code",
   "execution_count": null,
   "metadata": {},
   "outputs": [],
   "source": [
    "with open(\"env.json\", \"r\") as f:\n",
    "    tokenfile = json.load(f)"
   ]
  },
  {
   "cell_type": "code",
   "execution_count": null,
   "metadata": {},
   "outputs": [],
   "source": [
    "# expire Nov 27, 2020\n",
    "my_token = tokenfile['token']\n",
    "print(my_token)"
   ]
  },
  {
   "cell_type": "code",
   "execution_count": null,
   "metadata": {},
   "outputs": [],
   "source": [
    "my_token = \"tXgUBDNXEH_9Nvq2Laoi579pfJ3IgtiBQaW4K6H-2aIZtGgp5WT-FJK1JdWluavEknG8JPHACJgur4k7OBej4ptHAmRxlKmpB2Hzpb7LGS_kCCgIo7qgDWj0v01ePW_027vRadTbZXOCEjdfTKuCSsapOBMXG7LdfCVlgiXUmFtrfELiDzOrda5VicSNn0qWBOJYlnqfCJEEf1BChS_mljetlMqGOfNHUkbQnoDySPM.\""
   ]
  },
  {
   "cell_type": "code",
   "execution_count": null,
   "metadata": {},
   "outputs": [],
   "source": [
    "AGOLConnection = GIS(token=my_token)"
   ]
  },
  {
   "cell_type": "code",
   "execution_count": null,
   "metadata": {},
   "outputs": [],
   "source": [
    "print(AGOLConnection.users.__dict__)"
   ]
  },
  {
   "cell_type": "markdown",
   "metadata": {},
   "source": [
    "### Update COVID 14 days Health Metrics layer"
   ]
  },
  {
   "cell_type": "code",
   "execution_count": null,
   "metadata": {},
   "outputs": [],
   "source": [
    "print(\"Updating COVID 14 days Health Metrics layer\")\n",
    "covid14_zip_file = \"publish/covid_14_metrics{}.zip\".format(yearDate)"
   ]
  },
  {
   "cell_type": "code",
   "execution_count": null,
   "metadata": {},
   "outputs": [],
   "source": [
    "covid14_content = AGOLConnection.content.get('e59aafcbc5bc4287ab0351abbdee45fb')\n",
    "covid14_content"
   ]
  },
  {
   "cell_type": "code",
   "execution_count": null,
   "metadata": {},
   "outputs": [],
   "source": [
    "covid14_collection = FeatureLayerCollection.fromitem(covid14_content)"
   ]
  },
  {
   "cell_type": "code",
   "execution_count": null,
   "metadata": {},
   "outputs": [],
   "source": [
    "response = covid14_collection.manager.overwrite(covid14_zip_file)\n",
    "print(response)"
   ]
  },
  {
   "cell_type": "markdown",
   "metadata": {},
   "source": [
    "### Update Florida COVID Hospital ICU Census layer"
   ]
  },
  {
   "cell_type": "code",
   "execution_count": null,
   "metadata": {},
   "outputs": [],
   "source": [
    "print(\"Updating Florida COVID Hospital ICU Census layer\")\n",
    "hosp_icu_zip_file = \"publish/Florida_County_Hospital_ICU{}.zip\".format(yearDate)"
   ]
  },
  {
   "cell_type": "code",
   "execution_count": null,
   "metadata": {},
   "outputs": [],
   "source": [
    "Hosp_ICU_content = AGOLConnection.content.get('380c8b04f3c440528df0eebf89b0bd64')\n",
    "Hosp_ICU_content"
   ]
  },
  {
   "cell_type": "code",
   "execution_count": null,
   "metadata": {},
   "outputs": [],
   "source": [
    "Hosp_ICU_collection = FeatureLayerCollection.fromitem(Hosp_ICU_content)"
   ]
  },
  {
   "cell_type": "code",
   "execution_count": null,
   "metadata": {},
   "outputs": [],
   "source": [
    "reponse_hosp = Hosp_ICU_collection.manager.overwrite(hosp_icu_zip_file)\n",
    "print(reponse_hosp)"
   ]
  },
  {
   "cell_type": "markdown",
   "metadata": {},
   "source": [
    "### Update Florida COVID 19 Health Metrics layer"
   ]
  },
  {
   "cell_type": "code",
   "execution_count": null,
   "metadata": {},
   "outputs": [],
   "source": [
    "print(\"Updating Florida COVID 19 Health Metrics layer¶\")\n",
    "covid_daily_zip_file = \"publish/covid_impact_poly{}.zip\".format(yearDate)"
   ]
  },
  {
   "cell_type": "code",
   "execution_count": null,
   "metadata": {},
   "outputs": [],
   "source": [
    "covid_daily_content = AGOLConnection.content.get('2214f2f45aa24cd5bb4ff0175fcf8a2c')\n",
    "covid_daily_content"
   ]
  },
  {
   "cell_type": "code",
   "execution_count": null,
   "metadata": {},
   "outputs": [],
   "source": [
    "covid_daily_collection = FeatureLayerCollection.fromitem(covid_daily_content)"
   ]
  },
  {
   "cell_type": "code",
   "execution_count": null,
   "metadata": {},
   "outputs": [],
   "source": [
    "response_covid = covid_daily_collection.manager.overwrite(covid_daily_zip_file)\n",
    "print(response_covid)"
   ]
  },
  {
   "cell_type": "code",
   "execution_count": null,
   "metadata": {},
   "outputs": [],
   "source": [
    "print(str(datetime.now()) + \" Done with 7_Update_COVID_ArcGIS_Online_Layers\")"
   ]
  },
  {
   "cell_type": "code",
   "execution_count": null,
   "metadata": {},
   "outputs": [],
   "source": []
  }
 ],
 "metadata": {
  "kernelspec": {
   "display_name": "Python 3",
   "language": "python",
   "name": "python3"
  },
  "language_info": {
   "codemirror_mode": {
    "name": "ipython",
    "version": 3
   },
   "file_extension": ".py",
   "mimetype": "text/x-python",
   "name": "python",
   "nbconvert_exporter": "python",
   "pygments_lexer": "ipython3",
   "version": "3.8.2"
  }
 },
 "nbformat": 4,
 "nbformat_minor": 4
}
