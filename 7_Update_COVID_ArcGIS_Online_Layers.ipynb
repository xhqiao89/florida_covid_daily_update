{
 "cells": [
  {
   "cell_type": "code",
   "execution_count": 1,
   "metadata": {},
   "outputs": [],
   "source": [
    "import os\n",
    "import arcgis\n",
    "from arcgis.gis import GIS\n",
    "from arcgis.features import FeatureLayerCollection\n",
    "import pandas as pd\n",
    "import geopandas as gpd\n",
    "import requests\n",
    "import json\n",
    "from datetime import date, datetime"
   ]
  },
  {
   "cell_type": "code",
   "execution_count": 2,
   "metadata": {},
   "outputs": [
    {
     "name": "stdout",
     "output_type": "stream",
     "text": [
      "2020-11-16 12:54:29.334854 Running 7_Update_COVID_ArcGIS_Online_Layers\n",
      "111620\n"
     ]
    }
   ],
   "source": [
    "yearDate = date.today().strftime('%m%d%y')\n",
    "print(str(datetime.now()) + \" Running 7_Update_COVID_ArcGIS_Online_Layers\")\n",
    "print(yearDate)"
   ]
  },
  {
   "cell_type": "code",
   "execution_count": 3,
   "metadata": {},
   "outputs": [],
   "source": [
    "gis = GIS()"
   ]
  },
  {
   "cell_type": "code",
   "execution_count": 4,
   "metadata": {},
   "outputs": [],
   "source": [
    "uflURL = \"https://ufl.maps.arcgis.com/\""
   ]
  },
  {
   "cell_type": "code",
   "execution_count": 5,
   "metadata": {},
   "outputs": [],
   "source": [
    "with open(\"env.json\", \"r\") as f:\n",
    "    tokenfile = json.load(f)"
   ]
  },
  {
   "cell_type": "code",
   "execution_count": 6,
   "metadata": {},
   "outputs": [],
   "source": [
    "# expire Nov 27, 2020\n",
    "my_token = tokenfile['token']"
   ]
  },
  {
   "cell_type": "code",
   "execution_count": 7,
   "metadata": {},
   "outputs": [],
   "source": [
    "AGOLConnection = GIS(token=my_token)"
   ]
  },
  {
   "cell_type": "code",
   "execution_count": 8,
   "metadata": {},
   "outputs": [
    {
     "name": "stdout",
     "output_type": "stream",
     "text": [
      "{'_gis': GIS @ https://www.arcgis.com version:8.3, '_portal': <arcgis.gis._impl._portalpy.Portal object at 0x7ffcfae14430>, '_me': <User username:xiaohui.qiao_ufl>}\n"
     ]
    }
   ],
   "source": [
    "print(AGOLConnection.users.__dict__)"
   ]
  },
  {
   "cell_type": "markdown",
   "metadata": {},
   "source": [
    "### Update COVID 14 days Health Metrics layer"
   ]
  },
  {
   "cell_type": "code",
   "execution_count": 9,
   "metadata": {},
   "outputs": [
    {
     "name": "stdout",
     "output_type": "stream",
     "text": [
      "Updating COVID 14 days Health Metrics layer\n"
     ]
    }
   ],
   "source": [
    "print(\"Updating COVID 14 days Health Metrics layer\")\n",
    "covid14_zip_file = \"publish/covid_14_metrics{}.zip\".format(yearDate)"
   ]
  },
  {
   "cell_type": "code",
   "execution_count": 10,
   "metadata": {},
   "outputs": [
    {
     "data": {
      "text/html": [
       "<div class=\"item_container\" style=\"height: auto; overflow: hidden; border: 1px solid #cfcfcf; border-radius: 2px; background: #f6fafa; line-height: 1.21429em; padding: 10px;\">\n",
       "                    <div class=\"item_left\" style=\"width: 210px; float: left;\">\n",
       "                       <a href='https://www.arcgis.com/home/item.html?id=e59aafcbc5bc4287ab0351abbdee45fb' target='_blank'>\n",
       "                        <img src='data:image/png;base64,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' width='200' height='133' class=\"itemThumbnail\">\n",
       "                       </a>\n",
       "                    </div>\n",
       "\n",
       "                    <div class=\"item_right\"     style=\"float: none; width: auto; overflow: hidden;\">\n",
       "                        <a href='https://www.arcgis.com/home/item.html?id=e59aafcbc5bc4287ab0351abbdee45fb' target='_blank'><b>COVID 14 days Health Metrics</b>\n",
       "                        </a>\n",
       "                        <br/><img src='https://www.arcgis.com/home/js/jsapi/esri/css/images/item_type_icons/featureshosted16.png' style=\"vertical-align:middle;\">Feature Layer Collection by xiaohui.qiao_ufl\n",
       "                        <br/>Last Modified: November 16, 2020\n",
       "                        <br/>0 comments, 21 views\n",
       "                    </div>\n",
       "                </div>\n",
       "                "
      ],
      "text/plain": [
       "<Item title:\"COVID 14 days Health Metrics\" type:Feature Layer Collection owner:xiaohui.qiao_ufl>"
      ]
     },
     "execution_count": 10,
     "metadata": {},
     "output_type": "execute_result"
    }
   ],
   "source": [
    "covid14_content = AGOLConnection.content.get('e59aafcbc5bc4287ab0351abbdee45fb')\n",
    "covid14_content"
   ]
  },
  {
   "cell_type": "code",
   "execution_count": 11,
   "metadata": {},
   "outputs": [],
   "source": [
    "covid14_collection = FeatureLayerCollection.fromitem(covid14_content)"
   ]
  },
  {
   "cell_type": "code",
   "execution_count": 12,
   "metadata": {},
   "outputs": [
    {
     "name": "stdout",
     "output_type": "stream",
     "text": [
      "{'success': True}\n"
     ]
    }
   ],
   "source": [
    "response = covid14_collection.manager.overwrite(covid14_zip_file)\n",
    "print(response)"
   ]
  },
  {
   "cell_type": "markdown",
   "metadata": {},
   "source": [
    "### Update Florida COVID Hospital ICU Census layer"
   ]
  },
  {
   "cell_type": "code",
   "execution_count": 13,
   "metadata": {},
   "outputs": [
    {
     "name": "stdout",
     "output_type": "stream",
     "text": [
      "Updating Florida COVID Hospital ICU Census layer\n"
     ]
    }
   ],
   "source": [
    "print(\"Updating Florida COVID Hospital ICU Census layer\")\n",
    "hosp_icu_zip_file = \"publish/Florida_County_Hospital_ICU{}.zip\".format(yearDate)"
   ]
  },
  {
   "cell_type": "code",
   "execution_count": 14,
   "metadata": {},
   "outputs": [
    {
     "data": {
      "text/html": [
       "<div class=\"item_container\" style=\"height: auto; overflow: hidden; border: 1px solid #cfcfcf; border-radius: 2px; background: #f6fafa; line-height: 1.21429em; padding: 10px;\">\n",
       "                    <div class=\"item_left\" style=\"width: 210px; float: left;\">\n",
       "                       <a href='https://www.arcgis.com/home/item.html?id=380c8b04f3c440528df0eebf89b0bd64' target='_blank'>\n",
       "                        <img src='data:image/png;base64,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' width='200' height='133' class=\"itemThumbnail\">\n",
       "                       </a>\n",
       "                    </div>\n",
       "\n",
       "                    <div class=\"item_right\"     style=\"float: none; width: auto; overflow: hidden;\">\n",
       "                        <a href='https://www.arcgis.com/home/item.html?id=380c8b04f3c440528df0eebf89b0bd64' target='_blank'><b>Florida COVID Hospital ICU Census</b>\n",
       "                        </a>\n",
       "                        <br/><img src='https://www.arcgis.com/home/js/jsapi/esri/css/images/item_type_icons/featureshosted16.png' style=\"vertical-align:middle;\">Feature Layer Collection by xiaohui.qiao_ufl\n",
       "                        <br/>Last Modified: November 16, 2020\n",
       "                        <br/>0 comments, 20 views\n",
       "                    </div>\n",
       "                </div>\n",
       "                "
      ],
      "text/plain": [
       "<Item title:\"Florida COVID Hospital ICU Census\" type:Feature Layer Collection owner:xiaohui.qiao_ufl>"
      ]
     },
     "execution_count": 14,
     "metadata": {},
     "output_type": "execute_result"
    }
   ],
   "source": [
    "Hosp_ICU_content = AGOLConnection.content.get('380c8b04f3c440528df0eebf89b0bd64')\n",
    "Hosp_ICU_content"
   ]
  },
  {
   "cell_type": "code",
   "execution_count": 15,
   "metadata": {},
   "outputs": [],
   "source": [
    "Hosp_ICU_collection = FeatureLayerCollection.fromitem(Hosp_ICU_content)"
   ]
  },
  {
   "cell_type": "code",
   "execution_count": 16,
   "metadata": {},
   "outputs": [
    {
     "name": "stdout",
     "output_type": "stream",
     "text": [
      "{'success': True}\n"
     ]
    }
   ],
   "source": [
    "reponse_hosp = Hosp_ICU_collection.manager.overwrite(hosp_icu_zip_file)\n",
    "print(reponse_hosp)"
   ]
  },
  {
   "cell_type": "markdown",
   "metadata": {},
   "source": [
    "### Update Florida COVID 19 Health Metrics layer"
   ]
  },
  {
   "cell_type": "code",
   "execution_count": 17,
   "metadata": {},
   "outputs": [
    {
     "name": "stdout",
     "output_type": "stream",
     "text": [
      "Updating Florida COVID 19 Health Metrics layer¶\n"
     ]
    }
   ],
   "source": [
    "print(\"Updating Florida COVID 19 Health Metrics layer¶\")\n",
    "covid_daily_zip_file = \"publish/covid_impact_poly{}.zip\".format(yearDate)"
   ]
  },
  {
   "cell_type": "code",
   "execution_count": 18,
   "metadata": {},
   "outputs": [
    {
     "data": {
      "text/html": [
       "<div class=\"item_container\" style=\"height: auto; overflow: hidden; border: 1px solid #cfcfcf; border-radius: 2px; background: #f6fafa; line-height: 1.21429em; padding: 10px;\">\n",
       "                    <div class=\"item_left\" style=\"width: 210px; float: left;\">\n",
       "                       <a href='https://www.arcgis.com/home/item.html?id=2214f2f45aa24cd5bb4ff0175fcf8a2c' target='_blank'>\n",
       "                        <img src='data:image/png;base64,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' width='200' height='133' class=\"itemThumbnail\">\n",
       "                       </a>\n",
       "                    </div>\n",
       "\n",
       "                    <div class=\"item_right\"     style=\"float: none; width: auto; overflow: hidden;\">\n",
       "                        <a href='https://www.arcgis.com/home/item.html?id=2214f2f45aa24cd5bb4ff0175fcf8a2c' target='_blank'><b>Florida COVID 19 Health Metrics</b>\n",
       "                        </a>\n",
       "                        <br/><img src='https://www.arcgis.com/home/js/jsapi/esri/css/images/item_type_icons/featureshosted16.png' style=\"vertical-align:middle;\">Feature Layer Collection by xiaohui.qiao_ufl\n",
       "                        <br/>Last Modified: November 16, 2020\n",
       "                        <br/>0 comments, 33 views\n",
       "                    </div>\n",
       "                </div>\n",
       "                "
      ],
      "text/plain": [
       "<Item title:\"Florida COVID 19 Health Metrics\" type:Feature Layer Collection owner:xiaohui.qiao_ufl>"
      ]
     },
     "execution_count": 18,
     "metadata": {},
     "output_type": "execute_result"
    }
   ],
   "source": [
    "covid_daily_content = AGOLConnection.content.get('2214f2f45aa24cd5bb4ff0175fcf8a2c')\n",
    "covid_daily_content"
   ]
  },
  {
   "cell_type": "code",
   "execution_count": 19,
   "metadata": {},
   "outputs": [],
   "source": [
    "covid_daily_collection = FeatureLayerCollection.fromitem(covid_daily_content)"
   ]
  },
  {
   "cell_type": "code",
   "execution_count": 20,
   "metadata": {},
   "outputs": [
    {
     "name": "stdout",
     "output_type": "stream",
     "text": [
      "{'success': True}\n"
     ]
    }
   ],
   "source": [
    "response_covid = covid_daily_collection.manager.overwrite(covid_daily_zip_file)\n",
    "print(response_covid)"
   ]
  },
  {
   "cell_type": "code",
   "execution_count": 21,
   "metadata": {},
   "outputs": [
    {
     "name": "stdout",
     "output_type": "stream",
     "text": [
      "2020-11-16 12:56:27.900920 Done with 7_Update_COVID_ArcGIS_Online_Layers\n"
     ]
    }
   ],
   "source": [
    "print(str(datetime.now()) + \" Done with 7_Update_COVID_ArcGIS_Online_Layers\")"
   ]
  }
 ],
 "metadata": {
  "kernelspec": {
   "display_name": "Python 3",
   "language": "python",
   "name": "python3"
  },
  "language_info": {
   "codemirror_mode": {
    "name": "ipython",
    "version": 3
   },
   "file_extension": ".py",
   "mimetype": "text/x-python",
   "name": "python",
   "nbconvert_exporter": "python",
   "pygments_lexer": "ipython3",
   "version": "3.8.2"
  }
 },
 "nbformat": 4,
 "nbformat_minor": 4
}
