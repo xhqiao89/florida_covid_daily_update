{
 "cells": [
  {
   "cell_type": "code",
   "execution_count": null,
   "metadata": {},
   "outputs": [],
   "source": [
    "import os\n",
    "import json\n",
    "import requests\n",
    "import csv\n",
    "import numpy as np\n",
    "import pandas as pd\n",
    "import geopandas as gpd\n",
    "from zipfile import ZipFile\n",
    "from datetime import date, datetime, timedelta\n",
    "from arcgis.gis import GIS\n",
    "from arcgis.features import FeatureLayerCollection"
   ]
  },
  {
   "cell_type": "markdown",
   "metadata": {},
   "source": [
    "### Append new cases, new tested, and new hospitalizations to yesterday's data"
   ]
  },
  {
   "cell_type": "code",
   "execution_count": null,
   "metadata": {},
   "outputs": [],
   "source": [
    "print(str(datetime.now()) + \" Running 6_COVID_14day_Metrics_Process\")\n",
    "yearDate = date.today().strftime('%m%d%y')\n",
    "print(\"today: \"+yearDate)\n",
    "yearDate_long = date.today().strftime('%m/%d/%y')\n",
    "print(yearDate_long)\n",
    "yesterday = date.today() - timedelta(days=1)\n",
    "yearDate_yesterday = yesterday.strftime('%m%d%y')\n",
    "print(\"yesterday: \"+yearDate_yesterday)"
   ]
  },
  {
   "cell_type": "code",
   "execution_count": null,
   "metadata": {},
   "outputs": [],
   "source": [
    "covid_cases_file = \"data/Florida_COVID19_Cases_by_County{}.xlsx\".format(yearDate)\n",
    "df_covid_cases = pd.read_excel(covid_cases_file, sheet_name = 'Florida_COVID19_Cases_by_County')\n",
    "df_covid_case = df_covid_cases.drop(columns=['Unnamed: 0'],axis=1)\n",
    "df_covid_case.head()"
   ]
  },
  {
   "cell_type": "code",
   "execution_count": null,
   "metadata": {},
   "outputs": [],
   "source": [
    "df_new_case = df_covid_cases[['County_1','NewPos']].copy()\n",
    "df_new_case.head()"
   ]
  },
  {
   "cell_type": "code",
   "execution_count": null,
   "metadata": {},
   "outputs": [],
   "source": [
    "df_new_tested = df_covid_cases[['County_1','NewTested']].copy()\n",
    "df_new_tested.head()"
   ]
  },
  {
   "cell_type": "code",
   "execution_count": null,
   "metadata": {},
   "outputs": [],
   "source": [
    "result_folder = 'results/{}'.format(yearDate)\n",
    "if not os.path.exists(result_folder):\n",
    "    os.makedirs(result_folder)"
   ]
  },
  {
   "cell_type": "code",
   "execution_count": null,
   "metadata": {},
   "outputs": [],
   "source": [
    "hosp_file = os.path.join(result_folder,\"FL_County_Hospital_ICU{}.xlsx\".format(yearDate))\n",
    "df_hosps = pd.read_excel(hosp_file, sheet_name = 'Sheet1')\n",
    "df_hosp = df_hosps.drop(columns=['Unnamed: 0'],axis=1)\n",
    "df_hosp.head()"
   ]
  },
  {
   "cell_type": "code",
   "execution_count": null,
   "metadata": {},
   "outputs": [],
   "source": [
    "df_new_hosp = df_hosp[['County', 'COVID Hospitalizations']].copy()\n",
    "df_new_hosp.head()"
   ]
  },
  {
   "cell_type": "code",
   "execution_count": null,
   "metadata": {},
   "outputs": [],
   "source": [
    "covid_update_file = os.path.join('results/{}'.format(yearDate_yesterday),\"COVID_daily_update{}.xlsx\".format(yearDate_yesterday))\n",
    "df_NewPositive0 = pd.read_excel(covid_update_file, sheet_name = 'NewPositive')\n",
    "df_NewTested0 = pd.read_excel(covid_update_file, sheet_name = 'NewTested')\n",
    "df_Hospitalization0 = pd.read_excel(covid_update_file, sheet_name = 'Hospitalization')"
   ]
  },
  {
   "cell_type": "code",
   "execution_count": null,
   "metadata": {},
   "outputs": [],
   "source": [
    "# remove first unnamed column\n",
    "df_Hospitalization = df_Hospitalization0.drop(columns=['Unnamed: 0'],axis=1)\n",
    "df_NewPositive = df_NewPositive0.drop(columns=['Unnamed: 0'],axis=1)\n",
    "df_NewTested = df_NewTested0.drop(columns=['Unnamed: 0'],axis=1)"
   ]
  },
  {
   "cell_type": "code",
   "execution_count": null,
   "metadata": {
    "scrolled": true
   },
   "outputs": [],
   "source": [
    "df_NewPositive.head()"
   ]
  },
  {
   "cell_type": "code",
   "execution_count": null,
   "metadata": {},
   "outputs": [],
   "source": [
    "df_NewPositive_merge = pd.merge(df_NewPositive, df_new_case, left_on=['County_1'],right_on= ['County_1'], how = 'outer')\n",
    "df_NewPositive_new = df_NewPositive_merge.rename(columns={\"NewPos\":yearDate_long})\n",
    "df_NewPositive_new.head()"
   ]
  },
  {
   "cell_type": "code",
   "execution_count": null,
   "metadata": {},
   "outputs": [],
   "source": [
    "df_NewTested_merge = pd.merge(df_NewTested, df_new_tested, left_on=['County_1'],right_on= ['County_1'], how = 'outer')\n",
    "df_NewTested_new = df_NewTested_merge.rename(columns={\"NewTested\":yearDate_long})\n",
    "df_NewTested_new.head()"
   ]
  },
  {
   "cell_type": "code",
   "execution_count": null,
   "metadata": {},
   "outputs": [],
   "source": [
    "df_Hospitalization_merge = pd.merge(df_Hospitalization, df_new_hosp, left_on=['County'],right_on= ['County'], how='outer')\n",
    "df_Hospitalization_new = df_Hospitalization_merge.rename(columns={\"COVID Hospitalizations\":yearDate_long})\n",
    "df_Hospitalization_new.head()"
   ]
  },
  {
   "cell_type": "code",
   "execution_count": null,
   "metadata": {},
   "outputs": [],
   "source": [
    "# Export updated covid data to excel file\n",
    "print(\"Saving COVID_daily_update{}.xlsx in results/\".format(yearDate))\n",
    "with pd.ExcelWriter(os.path.join(result_folder,'COVID_daily_update{}.xlsx'.format(yearDate))) as writer:  \n",
    "    df_NewPositive_new.to_excel(writer, sheet_name='NewPositive')\n",
    "    df_NewTested_new.to_excel(writer, sheet_name='NewTested')\n",
    "    df_Hospitalization_new.to_excel(writer, sheet_name='Hospitalization')"
   ]
  },
  {
   "cell_type": "markdown",
   "metadata": {},
   "source": [
    "### Calculate 7 days, 14 days metrics"
   ]
  },
  {
   "cell_type": "code",
   "execution_count": null,
   "metadata": {},
   "outputs": [],
   "source": [
    "df_NewPositive_new['7dayPos'] = df_NewPositive_new.iloc[:,-7:].sum(axis=1)\n",
    "df_NewPositive_new['14dayPos'] = df_NewPositive_new.iloc[:,-15:-1].sum(axis=1)\n",
    "df_NewPositive_new"
   ]
  },
  {
   "cell_type": "code",
   "execution_count": null,
   "metadata": {},
   "outputs": [],
   "source": [
    "df_NewTested_new['7dayTested'] = df_NewTested_new.iloc[:,-7:].sum(axis=1)\n",
    "df_NewTested_new['14dayTested'] = df_NewTested_new.iloc[:,-15:-1].sum(axis=1)\n",
    "df_NewTested_new"
   ]
  },
  {
   "cell_type": "code",
   "execution_count": null,
   "metadata": {},
   "outputs": [],
   "source": [
    "df_Hospitalization_new.iloc[:,-1]"
   ]
  },
  {
   "cell_type": "code",
   "execution_count": null,
   "metadata": {},
   "outputs": [],
   "source": [
    "df_Hospitalization_new['NewHosp14AVE'] = (df_Hospitalization_new.iloc[:,-1] - df_Hospitalization_new.iloc[:,-15])/14\n",
    "df_Hospitalization_new['Hosp14AVE'] = df_Hospitalization_new.iloc[:,-15:-1].mean(axis=1)\n",
    "df_Hospitalization_new['Hosp7AVE'] = df_Hospitalization_new.iloc[:,-9:-2].mean(axis=1)\n",
    "df_Hospitalization_new.head()"
   ]
  },
  {
   "cell_type": "code",
   "execution_count": null,
   "metadata": {},
   "outputs": [],
   "source": [
    "df_case_merge = pd.merge(df_NewPositive_new,df_NewTested_new, left_on = ['County_1'], right_on = ['County_1'], how=\"outer\")\n",
    "df_case_merge"
   ]
  },
  {
   "cell_type": "code",
   "execution_count": null,
   "metadata": {},
   "outputs": [],
   "source": [
    "df_case = df_case_merge[['DEPCODE_x','County_1','COUNTYNAME_x','7dayPos','14dayPos','7dayTested','14dayTested']].copy()\n",
    "df_case"
   ]
  },
  {
   "cell_type": "code",
   "execution_count": null,
   "metadata": {},
   "outputs": [],
   "source": [
    "df_case['7daysPRate']=df_case['7dayPos']/df_case['7dayTested']\n",
    "df_case['14daysPRate']=df_case['14dayPos']/df_case['14dayTested']\n",
    "df_case['WeekPR_Ratio']=df_case['7daysPRate']/((df_case['14dayPos']-df_case['7dayPos'])/(df_case['14dayTested']-df_case['7dayTested']))\n",
    "df_case['WeekPosi_Ratio']=df_case['7dayPos']/(df_case['14dayPos']-df_case['7dayPos'])"
   ]
  },
  {
   "cell_type": "code",
   "execution_count": null,
   "metadata": {},
   "outputs": [],
   "source": [
    "df_case "
   ]
  },
  {
   "cell_type": "code",
   "execution_count": null,
   "metadata": {},
   "outputs": [],
   "source": [
    "df_hosp_14 = df_Hospitalization_new[['County','NewHosp14AVE','Hosp14AVE','Hosp7AVE']].copy()\n",
    "df_hosp_14new = df_hosp_14.astype({'NewHosp14AVE': 'int64','Hosp14AVE': 'int64'})\n",
    "df_hosp_14new.head()"
   ]
  },
  {
   "cell_type": "code",
   "execution_count": null,
   "metadata": {},
   "outputs": [],
   "source": [
    "a = set(df_case['COUNTYNAME_x'].values)\n",
    "b = set(df_hosp_14new['County'].values)"
   ]
  },
  {
   "cell_type": "code",
   "execution_count": null,
   "metadata": {},
   "outputs": [],
   "source": [
    "b.difference(a)"
   ]
  },
  {
   "cell_type": "code",
   "execution_count": null,
   "metadata": {},
   "outputs": [],
   "source": [
    "df_hosp_14new.loc[df_hosp_14new['County']=='MIAMI-DADE','County']='DADE'"
   ]
  },
  {
   "cell_type": "code",
   "execution_count": null,
   "metadata": {},
   "outputs": [],
   "source": [
    "a = set(df_case['COUNTYNAME_x'].values)\n",
    "b = set(df_hosp_14new['County'].values)\n",
    "b.difference(a)"
   ]
  },
  {
   "cell_type": "code",
   "execution_count": null,
   "metadata": {},
   "outputs": [],
   "source": [
    "df_merge = pd.merge(df_case, df_hosp_14new, left_on=['COUNTYNAME_x'],right_on= ['County'], how = 'left')\n",
    "df_merge['WeekHosp_Ratio']=df_merge['Hosp7AVE']/(df_merge['Hosp14AVE']*14-df_merge['Hosp7AVE']*7)*7\n",
    "df_merge.head(len(df_merge))"
   ]
  },
  {
   "cell_type": "code",
   "execution_count": null,
   "metadata": {},
   "outputs": [],
   "source": [
    "df_sort = df_merge.sort_values(by=['DEPCODE_x'])\n",
    "df_sort['County_1']=df_sort['County_1'].str.title()\n",
    "df_sort"
   ]
  },
  {
   "cell_type": "code",
   "execution_count": null,
   "metadata": {},
   "outputs": [],
   "source": [
    "df_sort_extract = df_sort.drop(columns=['County'])\n",
    "df_sort_drop_unknown = df_sort_extract.drop([68])\n",
    "df_sort_drop_unknown"
   ]
  },
  {
   "cell_type": "code",
   "execution_count": null,
   "metadata": {},
   "outputs": [],
   "source": [
    "print(\"Saving COVID_14_update{}.xlsx in results/\".format(yearDate))\n",
    "df_sort_drop_unknown.to_excel(os.path.join(result_folder,\"COVID_14_update{}.xlsx\".format(yearDate)))"
   ]
  },
  {
   "cell_type": "markdown",
   "metadata": {},
   "source": [
    "### Generate shapefile"
   ]
  },
  {
   "cell_type": "code",
   "execution_count": null,
   "metadata": {},
   "outputs": [],
   "source": [
    "gdf_county_polygon = gpd.read_file(\"shp/Florida_Counties.shp\")\n",
    "gdf_county_polygon.head()"
   ]
  },
  {
   "cell_type": "code",
   "execution_count": null,
   "metadata": {},
   "outputs": [],
   "source": [
    "a = set(df_sort_drop_unknown['County_1'].values)\n",
    "b = set(gdf_county_polygon['COUNTYNAME'].values)\n",
    "a.difference(b)"
   ]
  },
  {
   "cell_type": "code",
   "execution_count": null,
   "metadata": {},
   "outputs": [],
   "source": [
    "b.difference(a)"
   ]
  },
  {
   "cell_type": "code",
   "execution_count": null,
   "metadata": {},
   "outputs": [],
   "source": [
    "df_merge_poly = pd.merge(df_sort_drop_unknown, gdf_county_polygon, left_on = ['County_1'],right_on= ['COUNTYNAME'], how = 'outer')\n",
    "df_merge_poly.head(len(df_merge_poly))"
   ]
  },
  {
   "cell_type": "code",
   "execution_count": null,
   "metadata": {},
   "outputs": [],
   "source": [
    "df_merge_poly_drop = df_merge_poly.drop(columns=['DEPCODE','COUNTYNAME','COUNTY','OBJECTID','ShapeSTAre','ShapeSTLen','DATESTAMP'])\n",
    "df_merge_poly_clean = df_merge_poly_drop.rename(columns={'DEPCODE_x':'DEPCODE','County_1':'County','COUNTYNAME_x':'COUNTYNAME'})\n",
    "df_merge_poly_clean"
   ]
  },
  {
   "cell_type": "code",
   "execution_count": null,
   "metadata": {},
   "outputs": [],
   "source": [
    "shpfile_name = \"covid_14_metrics{}\".format(yearDate)\n",
    "print(\"Saving {}.shp in results/\".format(shpfile_name))\n",
    "gdf_merge_poly = gpd.GeoDataFrame(df_merge_poly_clean, geometry='geometry',crs=\"EPSG:4326\")\n",
    "gdf_merge_poly.to_file(driver = 'ESRI Shapefile', filename= os.path.join(result_folder,\"{}.shp\".format(shpfile_name)))"
   ]
  },
  {
   "cell_type": "code",
   "execution_count": null,
   "metadata": {},
   "outputs": [],
   "source": [
    "print(\"Saving {}.zip in publish/\".format(shpfile_name))\n",
    "with ZipFile(os.path.join('publish', '{}.zip'.format(shpfile_name)), 'w') as zipObj:\n",
    "    for file in os.listdir(result_folder):\n",
    "        if shpfile_name in file:\n",
    "            file_path = os.path.join(result_folder, file)\n",
    "            print(file)\n",
    "            try:\n",
    "                zipObj.write(file_path, os.path.basename(file_path))\n",
    "            except OSError as err:\n",
    "                print(\"OS error: {0}\".format(err))   "
   ]
  },
  {
   "cell_type": "markdown",
   "metadata": {},
   "source": [
    "### Update the AGOL layer with the shapefile"
   ]
  },
  {
   "cell_type": "code",
   "execution_count": null,
   "metadata": {},
   "outputs": [],
   "source": [
    "# Check if the data is updated or not today\n",
    "yesterday_covid_file = \"data/Florida_COVID19_Cases_by_County{}.xlsx\".format(yearDate_yesterday)\n",
    "today_covid_file = \"data/Florida_COVID19_Cases_by_County{}.xlsx\".format(yearDate)\n",
    "df_yester_covid = pd.read_excel(yesterday_covid_file, sheet_name = 'Florida_COVID19_Cases_by_County')\n",
    "df_today_covid = pd.read_excel(today_covid_file, sheet_name = 'Florida_COVID19_Cases_by_County')\n",
    "df_yester_newpos = df_yester_covid[['County_1','NewPos']]\n",
    "df_today_newpos = df_today_covid[['County_1','NewPos']]"
   ]
  },
  {
   "cell_type": "code",
   "execution_count": null,
   "metadata": {},
   "outputs": [],
   "source": [
    "if df_yester_newpos.equals(df_today_newpos): \n",
    "    raise Exception(\"Today's data is not updated yet. Exit the script.\")\n",
    "else: \n",
    "    print (\"Today's data is updated.\") "
   ]
  },
  {
   "cell_type": "code",
   "execution_count": null,
   "metadata": {},
   "outputs": [],
   "source": [
    "print(\"Updating COVID 14 days Health Metrics layer\")\n",
    "uflURL = \"https://ufl.maps.arcgis.com/\"\n",
    "with open(\"env.json\", \"r\") as f:\n",
    "    tokenfile = json.load(f)"
   ]
  },
  {
   "cell_type": "code",
   "execution_count": null,
   "metadata": {},
   "outputs": [],
   "source": [
    "my_token = tokenfile['token']\n",
    "AGOLConnection = GIS(token=my_token)\n",
    "print(AGOLConnection.users.__dict__)"
   ]
  },
  {
   "cell_type": "code",
   "execution_count": null,
   "metadata": {},
   "outputs": [],
   "source": [
    "covid14_zip_file = \"publish/covid_14_metrics{}.zip\".format(yearDate)\n",
    "covid14_content = AGOLConnection.content.get('e59aafcbc5bc4287ab0351abbdee45fb')\n",
    "covid14_content"
   ]
  },
  {
   "cell_type": "code",
   "execution_count": null,
   "metadata": {},
   "outputs": [],
   "source": [
    "covid14_collection = FeatureLayerCollection.fromitem(covid14_content)\n",
    "response = covid14_collection.manager.overwrite(covid14_zip_file)\n",
    "print(response)"
   ]
  },
  {
   "cell_type": "code",
   "execution_count": null,
   "metadata": {},
   "outputs": [],
   "source": [
    "print(str(datetime.now()) + \" Done with 6_COVID_14day_Metrics_Process\")"
   ]
  }
 ],
 "metadata": {
  "kernelspec": {
   "display_name": "Python 3",
   "language": "python",
   "name": "python3"
  },
  "language_info": {
   "codemirror_mode": {
    "name": "ipython",
    "version": 3
   },
   "file_extension": ".py",
   "mimetype": "text/x-python",
   "name": "python",
   "nbconvert_exporter": "python",
   "pygments_lexer": "ipython3",
   "version": "3.8.2"
  }
 },
 "nbformat": 4,
 "nbformat_minor": 4
}
