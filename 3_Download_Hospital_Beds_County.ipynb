{
 "cells": [
  {
   "cell_type": "markdown",
   "metadata": {},
   "source": [
    "### conda install -c conda-forge requests selenium\n",
    "\n",
    "### docker run -d -p 4444:4444 -v /dev/shm:/dev/shm selenium/standalone-chrome"
   ]
  },
  {
   "cell_type": "code",
   "execution_count": 1,
   "metadata": {},
   "outputs": [],
   "source": [
    "import time\n",
    "import requests\n",
    "from pprint import pprint\n",
    "from selenium import webdriver\n",
    "from datetime import date, datetime\n",
    "from selenium.webdriver.common.by import By\n",
    "from selenium.webdriver.common.desired_capabilities import DesiredCapabilities"
   ]
  },
  {
   "cell_type": "code",
   "execution_count": 2,
   "metadata": {},
   "outputs": [
    {
     "name": "stdout",
     "output_type": "stream",
     "text": [
      "2020-11-16 12:27:31.472070 Running 3_Download_Hospital_Beds_County\n",
      "111620\n"
     ]
    }
   ],
   "source": [
    "yearDate = date.today().strftime('%m%d%y')\n",
    "print(str(datetime.now()) + \" Running 3_Download_Hospital_Beds_County\")\n",
    "print(yearDate)"
   ]
  },
  {
   "cell_type": "code",
   "execution_count": 3,
   "metadata": {},
   "outputs": [],
   "source": [
    "# remote headless selenium in docker\n",
    "# docker run -d -p 4444:4444 -v /dev/shm:/dev/shm selenium/standalone-chrome\n",
    "driver = webdriver.Remote(\"http://127.0.0.1:4444/wd/hub\", DesiredCapabilities.CHROME)"
   ]
  },
  {
   "cell_type": "code",
   "execution_count": 4,
   "metadata": {},
   "outputs": [],
   "source": [
    "driver.get(\"https://bi.ahca.myflorida.com/t/ABICC/views/Public/HospitalBedsCounty?%3AshowAppBanner=false&%3Adisplay_count=n&%3AshowVizHome=n&%3Aorigin=viz_share_link&%3AisGuestRedirectFromVizportal=y&%3Aembed=y\")"
   ]
  },
  {
   "cell_type": "code",
   "execution_count": 5,
   "metadata": {},
   "outputs": [],
   "source": [
    "time.sleep(10)"
   ]
  },
  {
   "cell_type": "code",
   "execution_count": 6,
   "metadata": {},
   "outputs": [
    {
     "data": {
      "text/plain": [
       "[<selenium.webdriver.remote.webelement.WebElement (session=\"3f0db6caa83f9daf4d6829c2909868f2\", element=\"0057b048-227a-42a8-9b97-3ac3c9dfdedf\")>]"
      ]
     },
     "execution_count": 6,
     "metadata": {},
     "output_type": "execute_result"
    }
   ],
   "source": [
    "content = driver.find_elements_by_class_name('tab-tvTLSpacer')\n",
    "content"
   ]
  },
  {
   "cell_type": "code",
   "execution_count": 7,
   "metadata": {},
   "outputs": [],
   "source": [
    "content[0].click()"
   ]
  },
  {
   "cell_type": "code",
   "execution_count": 8,
   "metadata": {},
   "outputs": [],
   "source": [
    "time.sleep(5)"
   ]
  },
  {
   "cell_type": "code",
   "execution_count": 9,
   "metadata": {},
   "outputs": [
    {
     "data": {
      "text/plain": [
       "[<selenium.webdriver.remote.webelement.WebElement (session=\"3f0db6caa83f9daf4d6829c2909868f2\", element=\"46600554-a37b-4133-afb0-5f86c4bdd899\")>]"
      ]
     },
     "execution_count": 9,
     "metadata": {},
     "output_type": "execute_result"
    }
   ],
   "source": [
    "content = driver.find_elements_by_id('download-ToolbarButton')\n",
    "content"
   ]
  },
  {
   "cell_type": "code",
   "execution_count": 10,
   "metadata": {},
   "outputs": [],
   "source": [
    "content[0].click()"
   ]
  },
  {
   "cell_type": "code",
   "execution_count": 11,
   "metadata": {},
   "outputs": [],
   "source": [
    "time.sleep(5)"
   ]
  },
  {
   "cell_type": "code",
   "execution_count": 12,
   "metadata": {},
   "outputs": [],
   "source": [
    "content = driver.find_elements_by_class_name('tab-downloadLabel')\n",
    "btn = content[0].find_elements(By.XPATH, \"//*[text()='Data']\")\n",
    "btn[0].click()"
   ]
  },
  {
   "cell_type": "code",
   "execution_count": 13,
   "metadata": {},
   "outputs": [],
   "source": [
    "time.sleep(10)"
   ]
  },
  {
   "cell_type": "code",
   "execution_count": 14,
   "metadata": {},
   "outputs": [],
   "source": [
    "content = driver.find_elements(By.XPATH, \"//*[text()='Download all rows as a text file']\")\n",
    "handles = driver.window_handles"
   ]
  },
  {
   "cell_type": "code",
   "execution_count": 15,
   "metadata": {},
   "outputs": [],
   "source": [
    "driver.switch_to.window(handles[1])"
   ]
  },
  {
   "cell_type": "code",
   "execution_count": 16,
   "metadata": {},
   "outputs": [],
   "source": [
    "handles = driver.window_handles"
   ]
  },
  {
   "cell_type": "code",
   "execution_count": 17,
   "metadata": {},
   "outputs": [],
   "source": [
    "content = driver.find_elements(By.XPATH, \"//*[text()='Download all rows as a text file']\")"
   ]
  },
  {
   "cell_type": "code",
   "execution_count": 18,
   "metadata": {},
   "outputs": [],
   "source": [
    "url = content[0].get_attribute(\"href\")"
   ]
  },
  {
   "cell_type": "code",
   "execution_count": 19,
   "metadata": {},
   "outputs": [
    {
     "name": "stdout",
     "output_type": "stream",
     "text": [
      "Saving Hospital_BedsCounty1_data111620.csv in data/ICU/\n"
     ]
    }
   ],
   "source": [
    "print(\"Saving Hospital_BedsCounty1_data{}.csv in data/ICU/\".format(yearDate))\n",
    "r = requests.get(url)\n",
    "file = open(\"./data/ICU/Hospital_BedsCounty1_data{}.csv\".format(yearDate), \"w\")\n",
    "file.write(r.content.decode('utf-8'))\n",
    "file.close()"
   ]
  },
  {
   "cell_type": "code",
   "execution_count": 20,
   "metadata": {},
   "outputs": [],
   "source": [
    "driver.close()\n",
    "driver.switch_to.window(handles[0])\n",
    "driver.close()"
   ]
  },
  {
   "cell_type": "code",
   "execution_count": 21,
   "metadata": {},
   "outputs": [
    {
     "name": "stdout",
     "output_type": "stream",
     "text": [
      "2020-11-16 12:28:04.030550 Done with 3_Download_Hospital_Beds_County\n"
     ]
    }
   ],
   "source": [
    "print(str(datetime.now()) + \" Done with 3_Download_Hospital_Beds_County\")"
   ]
  }
 ],
 "metadata": {
  "kernelspec": {
   "display_name": "Python 3",
   "language": "python",
   "name": "python3"
  },
  "language_info": {
   "codemirror_mode": {
    "name": "ipython",
    "version": 3
   },
   "file_extension": ".py",
   "mimetype": "text/x-python",
   "name": "python",
   "nbconvert_exporter": "python",
   "pygments_lexer": "ipython3",
   "version": "3.8.2"
  }
 },
 "nbformat": 4,
 "nbformat_minor": 4
}
