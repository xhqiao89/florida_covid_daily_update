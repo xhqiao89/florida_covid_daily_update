{
 "cells": [
  {
   "cell_type": "code",
   "execution_count": null,
   "metadata": {},
   "outputs": [],
   "source": [
    "import os\n",
    "import json\n",
    "import requests\n",
    "import csv\n",
    "import numpy as np\n",
    "import pandas as pd\n",
    "import geopandas as gpd\n",
    "from zipfile import ZipFile\n",
    "from datetime import date, datetime, timedelta\n",
    "from arcgis.gis import GIS\n",
    "from arcgis.features import FeatureLayerCollection"
   ]
  },
  {
   "cell_type": "markdown",
   "metadata": {},
   "source": [
    "### Load, extract, and process data"
   ]
  },
  {
   "cell_type": "code",
   "execution_count": null,
   "metadata": {},
   "outputs": [],
   "source": [
    "yearDate = date.today().strftime('%m%d%y')\n",
    "print(str(datetime.now()) + \" Running 5_COVID_Hospital_ICU_Process\")\n",
    "print(\"today: \"+yearDate)\n",
    "yesterday = date.today() - timedelta(days=1)\n",
    "yearDate_yesterday = yesterday.strftime('%m%d%y')\n",
    "print(\"yesterday: \"+yearDate_yesterday)"
   ]
  },
  {
   "cell_type": "code",
   "execution_count": null,
   "metadata": {},
   "outputs": [],
   "source": [
    "dataFile_icu = \"data/ICU/ICU_BedsCounty1_data{}.csv\".format(yearDate)\n",
    "dataFile_newhosp = \"data/ICU/COVID_Hospitalizations_County1_data{}.csv\".format(yearDate)\n",
    "dataFile_hp = \"data/ICU/Hospital_BedsCounty1_data{}.csv\".format(yearDate)"
   ]
  },
  {
   "cell_type": "code",
   "execution_count": null,
   "metadata": {},
   "outputs": [],
   "source": [
    "df_ICU = pd.read_csv(dataFile_icu, sep=',',encoding='utf-8')\n",
    "df_ICU.head()"
   ]
  },
  {
   "cell_type": "code",
   "execution_count": null,
   "metadata": {},
   "outputs": [],
   "source": [
    "df_newhosp = pd.read_csv(dataFile_newhosp,sep=',',encoding='utf-8')\n",
    "df_newhosp.head()"
   ]
  },
  {
   "cell_type": "code",
   "execution_count": null,
   "metadata": {},
   "outputs": [],
   "source": [
    "df_hp = pd.read_csv(dataFile_hp, sep=',',encoding='utf-8')\n",
    "df_hp.head()"
   ]
  },
  {
   "cell_type": "code",
   "execution_count": null,
   "metadata": {},
   "outputs": [],
   "source": [
    "df_ICU_pivot = pd.pivot_table(df_ICU,values='Measure Values',index= 'County',columns = 'Measure Names',aggfunc=np.sum)\n",
    "df_ICU_pivot.head()"
   ]
  },
  {
   "cell_type": "code",
   "execution_count": null,
   "metadata": {},
   "outputs": [],
   "source": [
    "df_hp_pivot = pd.pivot_table(df_hp,values='Measure Values',index= 'County',columns = 'Measure Names',aggfunc=np.sum)\n",
    "df_hp_pivot.head()"
   ]
  },
  {
   "cell_type": "code",
   "execution_count": null,
   "metadata": {},
   "outputs": [],
   "source": [
    "df_merge = pd.merge(df_ICU_pivot, df_hp_pivot, left_on=['County'],right_on=['County'], how ='outer')\n",
    "df_merge2 = pd.merge(df_merge, df_newhosp, left_on=['County'],right_on= ['County'], how = 'outer')\n",
    "df_merge2.head()"
   ]
  },
  {
   "cell_type": "code",
   "execution_count": null,
   "metadata": {},
   "outputs": [],
   "source": [
    "df_merge_sum = df_merge2.append(df_merge2.sum(numeric_only=True), ignore_index=True)"
   ]
  },
  {
   "cell_type": "code",
   "execution_count": null,
   "metadata": {},
   "outputs": [],
   "source": [
    "df_merge_sum['County'] = df_merge_sum['County'].replace(np.nan, 'A State')\n",
    "df_merge_sum.iat[58,3] = df_merge_sum.iloc[58][2]/df_merge_sum.iloc[58][7]\n",
    "df_merge_sum.iat[58,5] = df_merge_sum.iloc[58][4]/df_merge_sum.iloc[58][8]\n",
    "df_merge_sum.iat[58,10] = df_merge_sum.iloc[58][9]/df_merge_sum.iloc[58][12]"
   ]
  },
  {
   "cell_type": "code",
   "execution_count": null,
   "metadata": {
    "scrolled": true
   },
   "outputs": [],
   "source": [
    "df_merge_sum"
   ]
  },
  {
   "cell_type": "code",
   "execution_count": null,
   "metadata": {},
   "outputs": [],
   "source": [
    "result_folder = 'results/{}'.format(yearDate)\n",
    "if not os.path.exists(result_folder):\n",
    "    os.makedirs(result_folder)"
   ]
  },
  {
   "cell_type": "code",
   "execution_count": null,
   "metadata": {},
   "outputs": [],
   "source": [
    "df_merge_sum.to_excel(os.path.join(result_folder,\"FL_County_Hospital_ICU{}.xlsx\".format(yearDate)))"
   ]
  },
  {
   "cell_type": "code",
   "execution_count": null,
   "metadata": {},
   "outputs": [],
   "source": [
    "df_merge_sum['Avail_ICU']=(df_merge_sum['Available Adult ICU'] + df_merge_sum['Available Pediatric ICU'])\n",
    "df_rename = df_merge_sum.rename(columns={\"Adult ICU Census\":\"AICU_Census\", \"Available Adult ICU\":\"AICU_Avail\",\\\n",
    "                                      \"Available Adult ICU%\":\"A_ICU\", \"Pediatric ICU Census\":\"PICU_Census\",\\\n",
    "                                      \"Available Pediatric ICU\":\"PICU_Avail\",\"Available Pediatric ICU%\":\"P_ICU\",\\\n",
    "                                      \"Total AdultICU Capacity\":\"T_AICU\", \"Total PediatricICU Capacity\":\"T_PICU\",\\\n",
    "                                      \"Available\":\"Bed_Avail\", \"Available Capacity\":\"Bed_AP\",\\\n",
    "                                      \"Total Staffed Bed Capacity\":\"T_bed\", 'COVID Hospitalizations':'New_hosp'})\n",
    "df_rename.head()"
   ]
  },
  {
   "cell_type": "code",
   "execution_count": null,
   "metadata": {},
   "outputs": [],
   "source": [
    "df_rename['COUNTYNAME'] = df_rename.loc[:, 'County']\n",
    "df_rename['County']= df_rename['County'].str.title()"
   ]
  },
  {
   "cell_type": "code",
   "execution_count": null,
   "metadata": {},
   "outputs": [],
   "source": [
    "df_rename.loc[df_rename['County']=='A State','County']='State'\n",
    "df_reset_index = df_rename.reset_index()\n",
    "df_reset_index.head()"
   ]
  },
  {
   "cell_type": "markdown",
   "metadata": {},
   "source": [
    "### Generate shapefile"
   ]
  },
  {
   "cell_type": "code",
   "execution_count": null,
   "metadata": {},
   "outputs": [],
   "source": [
    "gdf_county_polygon = gpd.read_file(\"shp/Florida_Counties.shp\")\n",
    "gdf_county_polygon.head()"
   ]
  },
  {
   "cell_type": "code",
   "execution_count": null,
   "metadata": {},
   "outputs": [],
   "source": [
    "a = set(df_reset_index['County'].values)\n",
    "b = set(gdf_county_polygon['COUNTYNAME'].values)\n",
    "a.difference(b)"
   ]
  },
  {
   "cell_type": "code",
   "execution_count": null,
   "metadata": {},
   "outputs": [],
   "source": [
    "b.difference(a)"
   ]
  },
  {
   "cell_type": "code",
   "execution_count": null,
   "metadata": {},
   "outputs": [],
   "source": [
    "df_reset_index.loc[df_reset_index['County']=='Miami-Dade','County']='Dade'"
   ]
  },
  {
   "cell_type": "code",
   "execution_count": null,
   "metadata": {},
   "outputs": [],
   "source": [
    "a = set(df_reset_index['County'].values)\n",
    "b = set(gdf_county_polygon['COUNTYNAME'].values)\n",
    "a.difference(b)"
   ]
  },
  {
   "cell_type": "code",
   "execution_count": null,
   "metadata": {},
   "outputs": [],
   "source": [
    "df_merge_poly = pd.merge(df_reset_index, gdf_county_polygon, left_on = ['County'],right_on = ['COUNTYNAME'], how = 'outer')\n",
    "df_merge_poly.head()"
   ]
  },
  {
   "cell_type": "code",
   "execution_count": null,
   "metadata": {},
   "outputs": [],
   "source": [
    "df_merge_poly1 = df_merge_poly.drop(columns=['OBJECTID','DEPCODE','COUNTY','DATESTAMP','COUNTYNAME_y','ShapeSTLen','ShapeSTAre'])\n",
    "df_merge_poly2 = df_merge_poly1.rename(columns={\"COUNTYNAME_x\": \"COUNTYNAME\"})\n",
    "df_merge_poly2.head(59)"
   ]
  },
  {
   "cell_type": "code",
   "execution_count": null,
   "metadata": {},
   "outputs": [],
   "source": [
    "shpfile_name = \"Florida_County_Hospital_ICU{}\".format(yearDate)\n",
    "print(\"Saving {}.shp in results/\".format(shpfile_name))\n",
    "gdf_merge = gpd.GeoDataFrame(df_merge_poly2, geometry='geometry',crs=\"EPSG:4326\")\n",
    "gdf_merge.to_file(os.path.join(result_folder,\"{}.shp\".format(shpfile_name)))"
   ]
  },
  {
   "cell_type": "code",
   "execution_count": null,
   "metadata": {},
   "outputs": [],
   "source": [
    "print(\"Saving {}.zip in publish/\".format(shpfile_name))\n",
    "with ZipFile(os.path.join('publish', '{}.zip'.format(shpfile_name)), 'w') as zipObj:\n",
    "    for file in os.listdir(result_folder):\n",
    "        if shpfile_name in file:\n",
    "            file_path = os.path.join(result_folder, file)\n",
    "            print(file)\n",
    "            try:\n",
    "                zipObj.write(file_path, os.path.basename(file_path))\n",
    "            except OSError as err:\n",
    "                print(\"OS error: {0}\".format(err))  "
   ]
  },
  {
   "cell_type": "markdown",
   "metadata": {},
   "source": [
    "### Update the AGOL layer with the shapefile"
   ]
  },
  {
   "cell_type": "code",
   "execution_count": null,
   "metadata": {},
   "outputs": [],
   "source": [
    "# Check if the data is updated or not today\n",
    "yesterday_covid_file = \"data/Florida_COVID19_Cases_by_County{}.xlsx\".format(yearDate_yesterday)\n",
    "today_covid_file = \"data/Florida_COVID19_Cases_by_County{}.xlsx\".format(yearDate)\n",
    "df_yester_covid = pd.read_excel(yesterday_covid_file, sheet_name = 'Florida_COVID19_Cases_by_County')\n",
    "df_today_covid = pd.read_excel(today_covid_file, sheet_name = 'Florida_COVID19_Cases_by_County')\n",
    "df_yester_newpos = df_yester_covid[['County_1','NewPos']]\n",
    "df_today_newpos = df_today_covid[['County_1','NewPos']]\n",
    "df_yester_newpos.head()"
   ]
  },
  {
   "cell_type": "code",
   "execution_count": null,
   "metadata": {},
   "outputs": [],
   "source": [
    "df_today_newpos.head()"
   ]
  },
  {
   "cell_type": "code",
   "execution_count": null,
   "metadata": {},
   "outputs": [],
   "source": [
    "if df_yester_newpos.equals(df_today_newpos): \n",
    "    raise Exception(\"Today's data is not updated yet. Exit the script.\")\n",
    "else: \n",
    "    print (\"Today's data is updated.\") "
   ]
  },
  {
   "cell_type": "code",
   "execution_count": null,
   "metadata": {},
   "outputs": [],
   "source": [
    "print(\"Updating Florida COVID Hospital ICU Census layer\")\n",
    "uflURL = \"https://ufl.maps.arcgis.com/\"\n",
    "with open(\"env.json\", \"r\") as f:\n",
    "    tokenfile = json.load(f)"
   ]
  },
  {
   "cell_type": "code",
   "execution_count": null,
   "metadata": {},
   "outputs": [],
   "source": [
    "my_token = tokenfile['token']\n",
    "AGOLConnection = GIS(token=my_token)\n",
    "print(AGOLConnection.users.__dict__)"
   ]
  },
  {
   "cell_type": "code",
   "execution_count": null,
   "metadata": {},
   "outputs": [],
   "source": [
    "hosp_icu_zip_file = \"publish/Florida_County_Hospital_ICU{}.zip\".format(yearDate)\n",
    "Hosp_ICU_content = AGOLConnection.content.get('a5e5d4d7be574d11a4a7dcdc1fd5bda2')\n",
    "Hosp_ICU_content"
   ]
  },
  {
   "cell_type": "code",
   "execution_count": null,
   "metadata": {},
   "outputs": [],
   "source": [
    "Hosp_ICU_collection = FeatureLayerCollection.fromitem(Hosp_ICU_content)\n",
    "reponse_hosp = Hosp_ICU_collection.manager.overwrite(hosp_icu_zip_file)\n",
    "print(reponse_hosp)"
   ]
  },
  {
   "cell_type": "code",
   "execution_count": null,
   "metadata": {},
   "outputs": [],
   "source": [
    "print(str(datetime.now()) + \" Done with 5_COVID_Hospital_ICU_Process\")"
   ]
  }
 ],
 "metadata": {
  "kernelspec": {
   "display_name": "Python 3",
   "language": "python",
   "name": "python3"
  },
  "language_info": {
   "codemirror_mode": {
    "name": "ipython",
    "version": 3
   },
   "file_extension": ".py",
   "mimetype": "text/x-python",
   "name": "python",
   "nbconvert_exporter": "python",
   "pygments_lexer": "ipython3",
   "version": "3.8.2"
  }
 },
 "nbformat": 4,
 "nbformat_minor": 4
}
